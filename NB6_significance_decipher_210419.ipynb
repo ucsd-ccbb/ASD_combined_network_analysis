{
 "cells": [
  {
   "cell_type": "markdown",
   "metadata": {},
   "source": [
    "# Evaluate the enrichment of Decipher shared phenotype patients on our ASD-CHD interactome\n",
    "\n",
    "Update 19-12-12: found all damaging SNVs/indels in DECIPHER, by looking up karyotype for abnormal nervous and cardiovascular systems.  Use this to make an ROC curve\n",
    "\n",
    "Update 20-04-28: make sure results can be replicated from supplemental tables, add more description\n",
    "\n",
    "Update 21-04-19: update for consistency with revision"
   ]
  },
  {
   "cell_type": "code",
   "execution_count": 1,
   "metadata": {},
   "outputs": [],
   "source": [
    "\n",
    "import numpy as np\n",
    "import matplotlib.pyplot as plt\n",
    "import seaborn as sns\n",
    "import networkx as nx\n",
    "import pandas as pd\n",
    "import random\n",
    "\n",
    "\n",
    "# latex rendering of text in graphs\n",
    "import matplotlib as mpl\n",
    "from matplotlib import rcParams\n",
    "rcParams['font.family'] = 'sans-serif'\n",
    "rcParams['font.sans-serif'] = ['Arial']\n",
    "\n",
    "sns.set_style('white')\n",
    "\n",
    "import sys\n",
    "\n",
    "% matplotlib inline\n",
    "\n",
    "sns.set_style(\"ticks\", {\"xtick.major.size\": 15, \"ytick.major.size\": 15})\n",
    "plt.rcParams['svg.fonttype'] = 'none'"
   ]
  },
  {
   "cell_type": "markdown",
   "metadata": {},
   "source": [
    "# Load the ASD-CHD network genes, (z_ASD-CHD>=3; 844 genes)"
   ]
  },
  {
   "cell_type": "code",
   "execution_count": 2,
   "metadata": {
    "scrolled": false
   },
   "outputs": [
    {
     "name": "stdout",
     "output_type": "stream",
     "text": [
      "844\n"
     ]
    },
    {
     "data": {
      "text/html": [
       "<div>\n",
       "<style scoped>\n",
       "    .dataframe tbody tr th:only-of-type {\n",
       "        vertical-align: middle;\n",
       "    }\n",
       "\n",
       "    .dataframe tbody tr th {\n",
       "        vertical-align: top;\n",
       "    }\n",
       "\n",
       "    .dataframe thead th {\n",
       "        text-align: right;\n",
       "    }\n",
       "</style>\n",
       "<table border=\"1\" class=\"dataframe\">\n",
       "  <thead>\n",
       "    <tr style=\"text-align: right;\">\n",
       "      <th></th>\n",
       "      <th>gene</th>\n",
       "      <th>ASD_seed</th>\n",
       "      <th>CHD_seed</th>\n",
       "      <th>dual_phenotype_snv_indel_DECIPHERv11.1</th>\n",
       "      <th>dual_phenotype_small_CNV_less1MB_DECIPHERv11.1</th>\n",
       "      <th>PCGC/PHN dual phenotype dDNV</th>\n",
       "      <th>sum_dual_pheno_damaging_variants (DECIPHER 11.1, PCGC/PHN)</th>\n",
       "      <th>z_both</th>\n",
       "    </tr>\n",
       "    <tr>\n",
       "      <th>gene</th>\n",
       "      <th></th>\n",
       "      <th></th>\n",
       "      <th></th>\n",
       "      <th></th>\n",
       "      <th></th>\n",
       "      <th></th>\n",
       "      <th></th>\n",
       "      <th></th>\n",
       "    </tr>\n",
       "  </thead>\n",
       "  <tbody>\n",
       "    <tr>\n",
       "      <th>KMT2A</th>\n",
       "      <td>KMT2A</td>\n",
       "      <td>0</td>\n",
       "      <td>1</td>\n",
       "      <td>17.0</td>\n",
       "      <td>1.0</td>\n",
       "      <td>1.0</td>\n",
       "      <td>19</td>\n",
       "      <td>52.658388</td>\n",
       "    </tr>\n",
       "    <tr>\n",
       "      <th>KANSL1</th>\n",
       "      <td>KANSL1</td>\n",
       "      <td>0</td>\n",
       "      <td>0</td>\n",
       "      <td>3.0</td>\n",
       "      <td>14.0</td>\n",
       "      <td>1.0</td>\n",
       "      <td>18</td>\n",
       "      <td>7.389539</td>\n",
       "    </tr>\n",
       "    <tr>\n",
       "      <th>CDK13</th>\n",
       "      <td>CDK13</td>\n",
       "      <td>0</td>\n",
       "      <td>1</td>\n",
       "      <td>15.0</td>\n",
       "      <td>1.0</td>\n",
       "      <td>0.0</td>\n",
       "      <td>16</td>\n",
       "      <td>65.097038</td>\n",
       "    </tr>\n",
       "    <tr>\n",
       "      <th>PTPN11</th>\n",
       "      <td>PTPN11</td>\n",
       "      <td>0</td>\n",
       "      <td>1</td>\n",
       "      <td>14.0</td>\n",
       "      <td>0.0</td>\n",
       "      <td>1.0</td>\n",
       "      <td>15</td>\n",
       "      <td>3.995214</td>\n",
       "    </tr>\n",
       "    <tr>\n",
       "      <th>ANKRD11</th>\n",
       "      <td>ANKRD11</td>\n",
       "      <td>0</td>\n",
       "      <td>0</td>\n",
       "      <td>14.0</td>\n",
       "      <td>1.0</td>\n",
       "      <td>0.0</td>\n",
       "      <td>15</td>\n",
       "      <td>3.766040</td>\n",
       "    </tr>\n",
       "  </tbody>\n",
       "</table>\n",
       "</div>"
      ],
      "text/plain": [
       "            gene  ASD_seed  CHD_seed  dual_phenotype_snv_indel_DECIPHERv11.1  \\\n",
       "gene                                                                           \n",
       "KMT2A      KMT2A         0         1                                    17.0   \n",
       "KANSL1    KANSL1         0         0                                     3.0   \n",
       "CDK13      CDK13         0         1                                    15.0   \n",
       "PTPN11    PTPN11         0         1                                    14.0   \n",
       "ANKRD11  ANKRD11         0         0                                    14.0   \n",
       "\n",
       "         dual_phenotype_small_CNV_less1MB_DECIPHERv11.1  \\\n",
       "gene                                                      \n",
       "KMT2A                                               1.0   \n",
       "KANSL1                                             14.0   \n",
       "CDK13                                               1.0   \n",
       "PTPN11                                              0.0   \n",
       "ANKRD11                                             1.0   \n",
       "\n",
       "         PCGC/PHN dual phenotype dDNV  \\\n",
       "gene                                    \n",
       "KMT2A                             1.0   \n",
       "KANSL1                            1.0   \n",
       "CDK13                             0.0   \n",
       "PTPN11                            1.0   \n",
       "ANKRD11                           0.0   \n",
       "\n",
       "         sum_dual_pheno_damaging_variants (DECIPHER 11.1, PCGC/PHN)     z_both  \n",
       "gene                                                                            \n",
       "KMT2A                                                   19           52.658388  \n",
       "KANSL1                                                  18            7.389539  \n",
       "CDK13                                                   16           65.097038  \n",
       "PTPN11                                                  15            3.995214  \n",
       "ANKRD11                                                 15            3.766040  "
      ]
     },
     "metadata": {},
     "output_type": "display_data"
    }
   ],
   "source": [
    "ASD_CHD_df = pd.read_excel('data/supplemental_tables_cell_systems_210416.xlsx',\n",
    "                           sheet_name='Table S5',skiprows=1)\n",
    "ASD_CHD_df.index=ASD_CHD_df['gene']\n",
    "print(len(ASD_CHD_df))\n",
    "display(ASD_CHD_df.head())"
   ]
  },
  {
   "cell_type": "code",
   "execution_count": 4,
   "metadata": {},
   "outputs": [
    {
     "data": {
      "text/plain": [
       "190"
      ]
     },
     "execution_count": 4,
     "metadata": {},
     "output_type": "execute_result"
    }
   ],
   "source": [
    "# number of dual-phenotype genes harboring at least one damaging variant (from DECIPHER v9.25, SNVs/INDELS/smallCNVs, + PCGC/PHN dual-phenotype dDNVs)\n",
    "# but MLL2 is included here... set to nan because it is a duplicate of KMT2A in PCnet\n",
    "sum(ASD_CHD_df['sum_dual_pheno_damaging_variants (DECIPHER 11.1, PCGC/PHN)']>0)"
   ]
  },
  {
   "cell_type": "code",
   "execution_count": null,
   "metadata": {},
   "outputs": [],
   "source": []
  },
  {
   "cell_type": "markdown",
   "metadata": {},
   "source": [
    "# Load the DECIPHER all dual-condition results\n",
    "\n",
    "DECIPHER all dual-condition results come from DECIPHER v11.1 (manually aqcuired from the webtool), and include only  SNVs/indels which were classified as likely LOF or protein changing. We were not able to collect comprehensive CNV information from the DECIPHER webtool.\n"
   ]
  },
  {
   "cell_type": "code",
   "execution_count": 5,
   "metadata": {},
   "outputs": [
    {
     "name": "stdout",
     "output_type": "stream",
     "text": [
      "911.0\n",
      "437\n"
     ]
    },
    {
     "data": {
      "text/html": [
       "<div>\n",
       "<style scoped>\n",
       "    .dataframe tbody tr th:only-of-type {\n",
       "        vertical-align: middle;\n",
       "    }\n",
       "\n",
       "    .dataframe tbody tr th {\n",
       "        vertical-align: top;\n",
       "    }\n",
       "\n",
       "    .dataframe thead th {\n",
       "        text-align: right;\n",
       "    }\n",
       "</style>\n",
       "<table border=\"1\" class=\"dataframe\">\n",
       "  <thead>\n",
       "    <tr style=\"text-align: right;\">\n",
       "      <th></th>\n",
       "      <th>chr</th>\n",
       "      <th>gene</th>\n",
       "      <th>num_SNVs_indels</th>\n",
       "      <th>num_likely_LOF</th>\n",
       "      <th>num_PC</th>\n",
       "      <th>num_annotated_reg_region</th>\n",
       "      <th>num_UTR</th>\n",
       "      <th>num_ncRNA</th>\n",
       "      <th>num_other</th>\n",
       "      <th>num_LOF_PC</th>\n",
       "    </tr>\n",
       "    <tr>\n",
       "      <th>gene</th>\n",
       "      <th></th>\n",
       "      <th></th>\n",
       "      <th></th>\n",
       "      <th></th>\n",
       "      <th></th>\n",
       "      <th></th>\n",
       "      <th></th>\n",
       "      <th></th>\n",
       "      <th></th>\n",
       "      <th></th>\n",
       "    </tr>\n",
       "  </thead>\n",
       "  <tbody>\n",
       "    <tr>\n",
       "      <th>GNB1</th>\n",
       "      <td>1</td>\n",
       "      <td>GNB1</td>\n",
       "      <td>1</td>\n",
       "      <td>0.0</td>\n",
       "      <td>1.0</td>\n",
       "      <td>0.0</td>\n",
       "      <td>0.0</td>\n",
       "      <td>0.0</td>\n",
       "      <td>0.0</td>\n",
       "      <td>1.0</td>\n",
       "    </tr>\n",
       "    <tr>\n",
       "      <th>CAMTA1</th>\n",
       "      <td>1</td>\n",
       "      <td>CAMTA1</td>\n",
       "      <td>1</td>\n",
       "      <td>1.0</td>\n",
       "      <td>0.0</td>\n",
       "      <td>0.0</td>\n",
       "      <td>0.0</td>\n",
       "      <td>0.0</td>\n",
       "      <td>0.0</td>\n",
       "      <td>1.0</td>\n",
       "    </tr>\n",
       "    <tr>\n",
       "      <th>RERE</th>\n",
       "      <td>1</td>\n",
       "      <td>RERE</td>\n",
       "      <td>3</td>\n",
       "      <td>0.0</td>\n",
       "      <td>3.0</td>\n",
       "      <td>0.0</td>\n",
       "      <td>0.0</td>\n",
       "      <td>0.0</td>\n",
       "      <td>0.0</td>\n",
       "      <td>3.0</td>\n",
       "    </tr>\n",
       "    <tr>\n",
       "      <th>MTHFR</th>\n",
       "      <td>1</td>\n",
       "      <td>MTHFR</td>\n",
       "      <td>1</td>\n",
       "      <td>0.0</td>\n",
       "      <td>1.0</td>\n",
       "      <td>0.0</td>\n",
       "      <td>0.0</td>\n",
       "      <td>0.0</td>\n",
       "      <td>0.0</td>\n",
       "      <td>1.0</td>\n",
       "    </tr>\n",
       "    <tr>\n",
       "      <th>MTOR</th>\n",
       "      <td>1</td>\n",
       "      <td>MTOR</td>\n",
       "      <td>1</td>\n",
       "      <td>0.0</td>\n",
       "      <td>1.0</td>\n",
       "      <td>0.0</td>\n",
       "      <td>0.0</td>\n",
       "      <td>0.0</td>\n",
       "      <td>0.0</td>\n",
       "      <td>1.0</td>\n",
       "    </tr>\n",
       "  </tbody>\n",
       "</table>\n",
       "</div>"
      ],
      "text/plain": [
       "       chr    gene  num_SNVs_indels  num_likely_LOF  num_PC  \\\n",
       "gene                                                          \n",
       "GNB1     1    GNB1                1             0.0     1.0   \n",
       "CAMTA1   1  CAMTA1                1             1.0     0.0   \n",
       "RERE     1    RERE                3             0.0     3.0   \n",
       "MTHFR    1   MTHFR                1             0.0     1.0   \n",
       "MTOR     1    MTOR                1             0.0     1.0   \n",
       "\n",
       "        num_annotated_reg_region  num_UTR  num_ncRNA  num_other  num_LOF_PC  \n",
       "gene                                                                         \n",
       "GNB1                         0.0      0.0        0.0        0.0         1.0  \n",
       "CAMTA1                       0.0      0.0        0.0        0.0         1.0  \n",
       "RERE                         0.0      0.0        0.0        0.0         3.0  \n",
       "MTHFR                        0.0      0.0        0.0        0.0         1.0  \n",
       "MTOR                         0.0      0.0        0.0        0.0         1.0  "
      ]
     },
     "execution_count": 5,
     "metadata": {},
     "output_type": "execute_result"
    }
   ],
   "source": [
    "# dec_kary_shared = pd.read_excel('data/DECIPHER_karyotypes_9.31.xlsx',sheet_name='ASD-CHD')\n",
    "# dec_kary_shared = pd.read_excel('/Users/brinrosenthal/Google Drive/UCSD/CCBB_tickets/Ideker_17_05_neuro/manuscript/tables_19_01/DECIPHER_karyotypes_210129.xlsx',\n",
    "#                                sheet_name = 'ASD-CHD_210129')\n",
    "\n",
    "# dec_kary_shared = pd.read_excel('/Users/brinrosenthal/Google Drive/UCSD/CCBB_tickets/Ideker_17_05_neuro/manuscript/CELL_SYSTEMS/supplemental_tables_cell_systems_210212.xlsx',\n",
    "#                            sheet_name='DECIPHER_11.1_DETAILED')\n",
    "\n",
    "dec_kary_shared = pd.read_excel('data/supplemental_tables_cell_systems_210416.xlsx',\n",
    "                           sheet_name='Table S6',skiprows=1)\n",
    "\n",
    "dec_kary_shared.index=dec_kary_shared['gene']\n",
    "dec_kary_shared = dec_kary_shared.fillna(0)\n",
    "dec_kary_shared['num_LOF_PC']=dec_kary_shared['num_likely_LOF']+dec_kary_shared['num_PC']\n",
    "print(dec_kary_shared['num_LOF_PC'].sum())\n",
    "print(len(dec_kary_shared))\n",
    "dec_kary_shared.head()"
   ]
  },
  {
   "cell_type": "code",
   "execution_count": 7,
   "metadata": {},
   "outputs": [
    {
     "name": "stdout",
     "output_type": "stream",
     "text": [
      "437\n",
      "911.0\n",
      "191\n"
     ]
    }
   ],
   "source": [
    "print(len(dec_kary_shared))\n",
    "print(sum(dec_kary_shared['num_LOF_PC']))\n",
    "print(sum(dec_kary_shared['num_LOF_PC']>1))"
   ]
  },
  {
   "cell_type": "code",
   "execution_count": 8,
   "metadata": {},
   "outputs": [
    {
     "data": {
      "text/plain": [
       "Text(0,0.5,'# dual-phenotype variants')"
      ]
     },
     "execution_count": 8,
     "metadata": {},
     "output_type": "execute_result"
    },
    {
     "data": {
      "image/png": "[encoded data removed]",
      "text/plain": [
       "<Figure size 288x101.52 with 1 Axes>"
      ]
     },
     "metadata": {},
     "output_type": "display_data"
    }
   ],
   "source": [
    "# bar-plot genes harboring most variants\n",
    "# sns.set_style('whitegrid')\n",
    "sns.set_style(\"ticks\", {\"xtick.major.size\": 15, \"ytick.major.size\": 15})\n",
    "# dual_plot =ASD_CHD_df[ASD_CHD_df['sum_damaging_variants (DECIPHER 9.25, PCGC/PHN)']>3]['sum_damaging_variants (DECIPHER 9.25, PCGC/PHN)']\n",
    "dual_plot =ASD_CHD_df[ASD_CHD_df['sum_damaging_variants (DECIPHER 11.1, PCGC/PHN)']>3]['sum_damaging_variants (DECIPHER 11.1, PCGC/PHN)']\n",
    "dual_plot=dual_plot.sort_values(ascending=False)\n",
    "plt.figure(figsize=(4,1.41))\n",
    "plt.bar(np.arange(len(dual_plot)),dual_plot,color='black')\n",
    "tmp=plt.xticks(np.arange(len(dual_plot)),dual_plot.index.tolist(),fontsize=6,rotation='vertical',va='top')\n",
    "plt.xlim([-1,len(dual_plot)])\n",
    "plt.yticks([0,5,10,15],fontsize=9)\n",
    "plt.ylabel('# dual-phenotype variants',fontsize=8)\n",
    "\n",
    "# plt.savefig('/Users/brinrosenthal/Google Drive/UCSD/CCBB_tickets/Ideker_17_05_neuro/manuscript/figures_revisions_2102/Figure3/barchart_dualpheno_g2_11.1.png',dpi=300,bbox_inches='tight')\n",
    "# plt.savefig('/Users/brinrosenthal/Google Drive/UCSD/CCBB_tickets/Ideker_17_05_neuro/manuscript/figures_revisions_2102/Figure3/barchart_dualpheno_g2_11.1.svg',dpi=300,bbox_inches='tight')\n",
    "\n",
    "# plt.savefig('../../manuscript/figures_1911/Figure3/Figure3_final assets/barchart_dualpheno_g2.png',dpi=300,bbox_inches='tight')\n",
    "# plt.savefig('../../manuscript/figures_1911/Figure3/Figure3_final assets/barchart_dualpheno_g2.svg',dpi=300,bbox_inches='tight',)\n",
    "# plt.savefig('../../manuscript/figures_1911/Figure3/barchart_dualpheno_g2.svg',dpi=300,bbox_inches='tight')\n"
   ]
  },
  {
   "cell_type": "code",
   "execution_count": 9,
   "metadata": {},
   "outputs": [
    {
     "data": {
      "text/plain": [
       "gene\n",
       "KMT2A      19\n",
       "KANSL1     18\n",
       "CDK13      16\n",
       "PTPN11     15\n",
       "ANKRD11    15\n",
       "CREBBP     14\n",
       "KMT2D      14\n",
       "KAT6A      14\n",
       "MAPT       13\n",
       "NSD1       10\n",
       "ARID1B     10\n",
       "NF1        10\n",
       "EHMT1      10\n",
       "EP300       9\n",
       "DYRK1A      8\n",
       "MED13L      8\n",
       "CHD7        7\n",
       "CHD4        7\n",
       "NOTCH1      7\n",
       "ADNP        7\n",
       "MECP2       6\n",
       "ZEB2        6\n",
       "KAT6B       5\n",
       "POGZ        5\n",
       "KMT2C       5\n",
       "BRAF        5\n",
       "WAC         5\n",
       "SETD5       5\n",
       "FOXP1       5\n",
       "SRCAP       5\n",
       "NALCN       4\n",
       "SON         4\n",
       "KDM6A       4\n",
       "BPTF        4\n",
       "SETD1A      4\n",
       "ATRX        4\n",
       "SOS1        4\n",
       "KDM5B       4\n",
       "PIK3CA      4\n",
       "Name: sum_damaging_variants (DECIPHER 11.1, PCGC/PHN), dtype: int64"
      ]
     },
     "execution_count": 9,
     "metadata": {},
     "output_type": "execute_result"
    }
   ],
   "source": [
    "dual_plot"
   ]
  },
  {
   "cell_type": "code",
   "execution_count": null,
   "metadata": {},
   "outputs": [],
   "source": []
  },
  {
   "cell_type": "markdown",
   "metadata": {},
   "source": [
    "# DECIPHER ROC curves"
   ]
  },
  {
   "cell_type": "code",
   "execution_count": 10,
   "metadata": {},
   "outputs": [
    {
     "name": "stdout",
     "output_type": "stream",
     "text": [
      "80\n",
      "19701\n"
     ]
    },
    {
     "data": {
      "text/html": [
       "<div>\n",
       "<style scoped>\n",
       "    .dataframe tbody tr th:only-of-type {\n",
       "        vertical-align: middle;\n",
       "    }\n",
       "\n",
       "    .dataframe tbody tr th {\n",
       "        vertical-align: top;\n",
       "    }\n",
       "\n",
       "    .dataframe thead th {\n",
       "        text-align: right;\n",
       "    }\n",
       "</style>\n",
       "<table border=\"1\" class=\"dataframe\">\n",
       "  <thead>\n",
       "    <tr style=\"text-align: right;\">\n",
       "      <th></th>\n",
       "      <th>zscore_ASD</th>\n",
       "      <th>zscore_CHD</th>\n",
       "      <th>zprod_both</th>\n",
       "    </tr>\n",
       "    <tr>\n",
       "      <th>gene</th>\n",
       "      <th></th>\n",
       "      <th></th>\n",
       "      <th></th>\n",
       "    </tr>\n",
       "  </thead>\n",
       "  <tbody>\n",
       "    <tr>\n",
       "      <th>A1BG</th>\n",
       "      <td>-1.483328</td>\n",
       "      <td>0.316803</td>\n",
       "      <td>-0.469922</td>\n",
       "    </tr>\n",
       "    <tr>\n",
       "      <th>A1CF</th>\n",
       "      <td>-0.927115</td>\n",
       "      <td>0.571386</td>\n",
       "      <td>-0.529741</td>\n",
       "    </tr>\n",
       "    <tr>\n",
       "      <th>A2M</th>\n",
       "      <td>-2.837494</td>\n",
       "      <td>0.598259</td>\n",
       "      <td>-1.697556</td>\n",
       "    </tr>\n",
       "    <tr>\n",
       "      <th>A2ML1</th>\n",
       "      <td>-1.119579</td>\n",
       "      <td>1.554647</td>\n",
       "      <td>-1.740550</td>\n",
       "    </tr>\n",
       "    <tr>\n",
       "      <th>A3GALT2</th>\n",
       "      <td>-0.807590</td>\n",
       "      <td>3.459356</td>\n",
       "      <td>-2.793741</td>\n",
       "    </tr>\n",
       "  </tbody>\n",
       "</table>\n",
       "</div>"
      ],
      "text/plain": [
       "         zscore_ASD  zscore_CHD  zprod_both\n",
       "gene                                       \n",
       "A1BG      -1.483328    0.316803   -0.469922\n",
       "A1CF      -0.927115    0.571386   -0.529741\n",
       "A2M       -2.837494    0.598259   -1.697556\n",
       "A2ML1     -1.119579    1.554647   -1.740550\n",
       "A3GALT2   -0.807590    3.459356   -2.793741"
      ]
     },
     "execution_count": 10,
     "metadata": {},
     "output_type": "execute_result"
    }
   ],
   "source": [
    "# load the full z-score results for ASD and CHD\n",
    "\n",
    "num_reps = 5000\n",
    "focal_interactome='PCnet'\n",
    "rand_method = 'degree_binning' # can be 'degree_binning' or 'degree_ks_test' (deprecated)\n",
    "\n",
    "z_ASD = pd.read_csv('data/z_score_results/z_ASD_'+str(num_reps)+'_reps'+focal_interactome+'_'+rand_method+'.tsv',\n",
    "                sep='\\t',names=['gene','zscore'],index_col='gene')\n",
    "z_CHD = pd.read_csv('data/z_score_results/z_CHD_'+str(num_reps)+'_reps'+focal_interactome+'_'+rand_method+'.tsv',\n",
    "                       sep='\\t',names=['gene','zscore'],index_col='gene')\n",
    "\n",
    "# z_ASD = z_ASD['zscore'].copy()\n",
    "# z_CHD = z_CHD['zscore'].copy()\n",
    "\n",
    "z_ASD.head()\n",
    "\n",
    "# multiply by the sign (+1 if both +, -1 if either -). \n",
    "z_ASDCHD = z_ASD['zscore'].abs()*z_CHD['zscore'].abs()*(((np.sign(z_ASD['zscore'])>0)&(np.sign(z_CHD['zscore'])>0))*1.0-.5)*2\n",
    "\n",
    "\n",
    "z_ASDCHD.head()\n",
    "\n",
    "\n",
    "\n",
    "seed_genes = ASD_CHD_df[(ASD_CHD_df['ASD_seed']==1)|(ASD_CHD_df['CHD_seed']==1)].index.tolist()\n",
    "print(len(seed_genes))\n",
    "non_seed_genes = list(np.setdiff1d(z_ASDCHD.index.tolist(),seed_genes))\n",
    "z_ASDCHD_noseeds = z_ASDCHD.loc[non_seed_genes]\n",
    "print(len(z_ASDCHD_noseeds))\n",
    "z_ASDCHD_noseeds.max()\n",
    "\n",
    "z_comb = z_ASD.join(z_CHD,lsuffix='_ASD',rsuffix='_CHD')\n",
    "z_comb['zprod_both']=z_ASDCHD\n",
    "z_comb.head()\n",
    "\n",
    "z_comb_no_seeds = z_comb.loc[non_seed_genes]\n",
    "z_comb_no_seeds.head()"
   ]
  },
  {
   "cell_type": "code",
   "execution_count": null,
   "metadata": {},
   "outputs": [],
   "source": []
  },
  {
   "cell_type": "code",
   "execution_count": 11,
   "metadata": {},
   "outputs": [
    {
     "name": "stdout",
     "output_type": "stream",
     "text": [
      "94\n",
      "334.0\n"
     ]
    }
   ],
   "source": [
    "focal_genes_temp = list(np.intersect1d(z_ASDCHD[z_ASDCHD>3].index.tolist(),dec_kary_shared.index.tolist()))\n",
    "print(len(focal_genes_temp))\n",
    "print(dec_kary_shared['num_LOF_PC'].loc[focal_genes_temp].dropna().sum())\n"
   ]
  },
  {
   "cell_type": "code",
   "execution_count": 12,
   "metadata": {},
   "outputs": [],
   "source": [
    "\n",
    "\n",
    "def calc_FPR_TPR(z_ASDCHD, both_DECIPHER,thresh_list):\n",
    "\n",
    "    TP_both_list,FP_both_list,TN_both_list,FN_both_list = [],[],[],[]\n",
    "\n",
    "#     thresh_list = np.arange(0,30)\n",
    "#     thresh_list = np.linspace(-17,400,1000)\n",
    "#     thresh_list = np.linspace(0,2,1000)\n",
    "    for thresh_temp in thresh_list:\n",
    "\n",
    "        both_predicted = z_ASDCHD[z_ASDCHD>=thresh_temp].index.tolist()\n",
    "\n",
    "        # ------ both -------\n",
    "        num_TP_both = len(np.intersect1d(both_DECIPHER,both_predicted))\n",
    "        num_FP_both = len(both_predicted)-num_TP_both\n",
    "        num_FN_both = len(both_DECIPHER)-num_TP_both\n",
    "        # number true negatives is everything that wasn't TP, FN, or FP\n",
    "        num_TN_both = len(z_ASDCHD)-num_TP_both-num_FP_both-num_FN_both \n",
    "\n",
    "        TP_both_list.append(num_TP_both)\n",
    "        FP_both_list.append(num_FP_both)\n",
    "        TN_both_list.append(num_TN_both)\n",
    "        FN_both_list.append(num_FN_both)\n",
    "\n",
    "        # P is number of true positives in the data\n",
    "        P_both = len(both_DECIPHER)\n",
    "        # N is number of true negatives in the data (# number of interactome genes- P..?)\n",
    "        N_both = len(z_ASDCHD)-P_both \n",
    "        # (TPR = sensitivity/ recall)\n",
    "        TPR_both = np.divide(TP_both_list,float(P_both))\n",
    "        FPR_both = np.divide(FP_both_list,float(N_both))\n",
    "\n",
    "        \n",
    "    return(TPR_both,FPR_both)"
   ]
  },
  {
   "cell_type": "code",
   "execution_count": null,
   "metadata": {},
   "outputs": [],
   "source": []
  },
  {
   "cell_type": "code",
   "execution_count": null,
   "metadata": {},
   "outputs": [],
   "source": []
  },
  {
   "cell_type": "code",
   "execution_count": 14,
   "metadata": {
    "scrolled": true
   },
   "outputs": [
    {
     "name": "stdout",
     "output_type": "stream",
     "text": [
      "191\n",
      "186\n",
      "160\n",
      "\n",
      "AUC all:\n",
      "0.7048441971426768\n",
      "\n",
      "AUC seeds excluded:\n",
      "0.6591106519625403\n",
      "0\n"
     ]
    },
    {
     "ename": "KeyboardInterrupt",
     "evalue": "",
     "output_type": "error",
     "traceback": [
      "\u001b[0;31m---------------------------------------------------------------------------\u001b[0m",
      "\u001b[0;31mKeyboardInterrupt\u001b[0m                         Traceback (most recent call last)",
      "\u001b[0;32m<ipython-input-14-d6aba0d8699b>\u001b[0m in \u001b[0;36m<module>\u001b[0;34m()\u001b[0m\n\u001b[1;32m     49\u001b[0m \u001b[0;34m\u001b[0m\u001b[0m\n\u001b[1;32m     50\u001b[0m \u001b[0;34m\u001b[0m\u001b[0m\n\u001b[0;32m---> 51\u001b[0;31m     \u001b[0mTPR_both_rand\u001b[0m\u001b[0;34m,\u001b[0m\u001b[0mFPR_both_rand\u001b[0m\u001b[0;34m=\u001b[0m\u001b[0mcalc_FPR_TPR\u001b[0m\u001b[0;34m(\u001b[0m\u001b[0mz_ASDCHDrand\u001b[0m\u001b[0;34m,\u001b[0m \u001b[0mboth_DECIPHER\u001b[0m\u001b[0;34m,\u001b[0m\u001b[0mthresh_list\u001b[0m\u001b[0;34m)\u001b[0m\u001b[0;34m\u001b[0m\u001b[0m\n\u001b[0m\u001b[1;32m     52\u001b[0m     \u001b[0mauc_both_rand\u001b[0m\u001b[0;34m.\u001b[0m\u001b[0mappend\u001b[0m\u001b[0;34m(\u001b[0m\u001b[0mauc\u001b[0m\u001b[0;34m(\u001b[0m\u001b[0mTPR_both_rand\u001b[0m\u001b[0;34m,\u001b[0m\u001b[0mFPR_both_rand\u001b[0m\u001b[0;34m)\u001b[0m\u001b[0;34m)\u001b[0m\u001b[0;34m\u001b[0m\u001b[0m\n\u001b[1;32m     53\u001b[0m \u001b[0;34m\u001b[0m\u001b[0m\n",
      "\u001b[0;32m<ipython-input-12-b4d8126c21d1>\u001b[0m in \u001b[0;36mcalc_FPR_TPR\u001b[0;34m(z_ASDCHD, both_DECIPHER, thresh_list)\u001b[0m\n\u001b[1;32m     10\u001b[0m     \u001b[0;32mfor\u001b[0m \u001b[0mthresh_temp\u001b[0m \u001b[0;32min\u001b[0m \u001b[0mthresh_list\u001b[0m\u001b[0;34m:\u001b[0m\u001b[0;34m\u001b[0m\u001b[0m\n\u001b[1;32m     11\u001b[0m \u001b[0;34m\u001b[0m\u001b[0m\n\u001b[0;32m---> 12\u001b[0;31m         \u001b[0mboth_predicted\u001b[0m \u001b[0;34m=\u001b[0m \u001b[0mz_ASDCHD\u001b[0m\u001b[0;34m[\u001b[0m\u001b[0mz_ASDCHD\u001b[0m\u001b[0;34m>=\u001b[0m\u001b[0mthresh_temp\u001b[0m\u001b[0;34m]\u001b[0m\u001b[0;34m.\u001b[0m\u001b[0mindex\u001b[0m\u001b[0;34m.\u001b[0m\u001b[0mtolist\u001b[0m\u001b[0;34m(\u001b[0m\u001b[0;34m)\u001b[0m\u001b[0;34m\u001b[0m\u001b[0m\n\u001b[0m\u001b[1;32m     13\u001b[0m \u001b[0;34m\u001b[0m\u001b[0m\n\u001b[1;32m     14\u001b[0m         \u001b[0;31m# ------ both -------\u001b[0m\u001b[0;34m\u001b[0m\u001b[0;34m\u001b[0m\u001b[0m\n",
      "\u001b[0;32m/Users/brinrosenthal/anaconda3/envs/ipykernel_py2/lib/python2.7/site-packages/pandas/core/ops.pyc\u001b[0m in \u001b[0;36mwrapper\u001b[0;34m(self, other, axis)\u001b[0m\n\u001b[1;32m   1772\u001b[0m             \u001b[0mres_values\u001b[0m \u001b[0;34m=\u001b[0m \u001b[0mcom\u001b[0m\u001b[0;34m.\u001b[0m\u001b[0mvalues_from_object\u001b[0m\u001b[0;34m(\u001b[0m\u001b[0mres\u001b[0m\u001b[0;34m)\u001b[0m\u001b[0;34m\u001b[0m\u001b[0m\n\u001b[1;32m   1773\u001b[0m             return self._constructor(res_values, index=self.index,\n\u001b[0;32m-> 1774\u001b[0;31m                                      name=res_name, dtype='bool')\n\u001b[0m\u001b[1;32m   1775\u001b[0m \u001b[0;34m\u001b[0m\u001b[0m\n\u001b[1;32m   1776\u001b[0m     \u001b[0mwrapper\u001b[0m\u001b[0;34m.\u001b[0m\u001b[0m__name__\u001b[0m \u001b[0;34m=\u001b[0m \u001b[0mop_name\u001b[0m\u001b[0;34m\u001b[0m\u001b[0m\n",
      "\u001b[0;32m/Users/brinrosenthal/anaconda3/envs/ipykernel_py2/lib/python2.7/site-packages/pandas/core/series.pyc\u001b[0m in \u001b[0;36m__init__\u001b[0;34m(self, data, index, dtype, name, copy, fastpath)\u001b[0m\n\u001b[1;32m    262\u001b[0m                                       raise_cast_failure=True)\n\u001b[1;32m    263\u001b[0m \u001b[0;34m\u001b[0m\u001b[0m\n\u001b[0;32m--> 264\u001b[0;31m                 \u001b[0mdata\u001b[0m \u001b[0;34m=\u001b[0m \u001b[0mSingleBlockManager\u001b[0m\u001b[0;34m(\u001b[0m\u001b[0mdata\u001b[0m\u001b[0;34m,\u001b[0m \u001b[0mindex\u001b[0m\u001b[0;34m,\u001b[0m \u001b[0mfastpath\u001b[0m\u001b[0;34m=\u001b[0m\u001b[0mTrue\u001b[0m\u001b[0;34m)\u001b[0m\u001b[0;34m\u001b[0m\u001b[0m\n\u001b[0m\u001b[1;32m    265\u001b[0m \u001b[0;34m\u001b[0m\u001b[0m\n\u001b[1;32m    266\u001b[0m         \u001b[0mgeneric\u001b[0m\u001b[0;34m.\u001b[0m\u001b[0mNDFrame\u001b[0m\u001b[0;34m.\u001b[0m\u001b[0m__init__\u001b[0m\u001b[0;34m(\u001b[0m\u001b[0mself\u001b[0m\u001b[0;34m,\u001b[0m \u001b[0mdata\u001b[0m\u001b[0;34m,\u001b[0m \u001b[0mfastpath\u001b[0m\u001b[0;34m=\u001b[0m\u001b[0mTrue\u001b[0m\u001b[0;34m)\u001b[0m\u001b[0;34m\u001b[0m\u001b[0m\n",
      "\u001b[0;32m/Users/brinrosenthal/anaconda3/envs/ipykernel_py2/lib/python2.7/site-packages/pandas/core/internals/managers.pyc\u001b[0m in \u001b[0;36m__init__\u001b[0;34m(self, block, axis, do_integrity_check, fastpath)\u001b[0m\n\u001b[1;32m   1479\u001b[0m \u001b[0;34m\u001b[0m\u001b[0m\n\u001b[1;32m   1480\u001b[0m         \u001b[0;32mif\u001b[0m \u001b[0;32mnot\u001b[0m \u001b[0misinstance\u001b[0m\u001b[0;34m(\u001b[0m\u001b[0mblock\u001b[0m\u001b[0;34m,\u001b[0m \u001b[0mBlock\u001b[0m\u001b[0;34m)\u001b[0m\u001b[0;34m:\u001b[0m\u001b[0;34m\u001b[0m\u001b[0m\n\u001b[0;32m-> 1481\u001b[0;31m             \u001b[0mblock\u001b[0m \u001b[0;34m=\u001b[0m \u001b[0mmake_block\u001b[0m\u001b[0;34m(\u001b[0m\u001b[0mblock\u001b[0m\u001b[0;34m,\u001b[0m \u001b[0mplacement\u001b[0m\u001b[0;34m=\u001b[0m\u001b[0mslice\u001b[0m\u001b[0;34m(\u001b[0m\u001b[0;36m0\u001b[0m\u001b[0;34m,\u001b[0m \u001b[0mlen\u001b[0m\u001b[0;34m(\u001b[0m\u001b[0maxis\u001b[0m\u001b[0;34m)\u001b[0m\u001b[0;34m)\u001b[0m\u001b[0;34m,\u001b[0m \u001b[0mndim\u001b[0m\u001b[0;34m=\u001b[0m\u001b[0;36m1\u001b[0m\u001b[0;34m)\u001b[0m\u001b[0;34m\u001b[0m\u001b[0m\n\u001b[0m\u001b[1;32m   1482\u001b[0m \u001b[0;34m\u001b[0m\u001b[0m\n\u001b[1;32m   1483\u001b[0m         \u001b[0mself\u001b[0m\u001b[0;34m.\u001b[0m\u001b[0mblocks\u001b[0m \u001b[0;34m=\u001b[0m \u001b[0;34m[\u001b[0m\u001b[0mblock\u001b[0m\u001b[0;34m]\u001b[0m\u001b[0;34m\u001b[0m\u001b[0m\n",
      "\u001b[0;32m/Users/brinrosenthal/anaconda3/envs/ipykernel_py2/lib/python2.7/site-packages/pandas/core/internals/blocks.pyc\u001b[0m in \u001b[0;36mmake_block\u001b[0;34m(values, placement, klass, ndim, dtype, fastpath)\u001b[0m\n\u001b[1;32m   3086\u001b[0m     \u001b[0;32mif\u001b[0m \u001b[0mklass\u001b[0m \u001b[0;32mis\u001b[0m \u001b[0mNone\u001b[0m\u001b[0;34m:\u001b[0m\u001b[0;34m\u001b[0m\u001b[0m\n\u001b[1;32m   3087\u001b[0m         \u001b[0mdtype\u001b[0m \u001b[0;34m=\u001b[0m \u001b[0mdtype\u001b[0m \u001b[0;32mor\u001b[0m \u001b[0mvalues\u001b[0m\u001b[0;34m.\u001b[0m\u001b[0mdtype\u001b[0m\u001b[0;34m\u001b[0m\u001b[0m\n\u001b[0;32m-> 3088\u001b[0;31m         \u001b[0mklass\u001b[0m \u001b[0;34m=\u001b[0m \u001b[0mget_block_type\u001b[0m\u001b[0;34m(\u001b[0m\u001b[0mvalues\u001b[0m\u001b[0;34m,\u001b[0m \u001b[0mdtype\u001b[0m\u001b[0;34m)\u001b[0m\u001b[0;34m\u001b[0m\u001b[0m\n\u001b[0m\u001b[1;32m   3089\u001b[0m \u001b[0;34m\u001b[0m\u001b[0m\n\u001b[1;32m   3090\u001b[0m     \u001b[0;32melif\u001b[0m \u001b[0mklass\u001b[0m \u001b[0;32mis\u001b[0m \u001b[0mDatetimeTZBlock\u001b[0m \u001b[0;32mand\u001b[0m \u001b[0;32mnot\u001b[0m \u001b[0mis_datetime64tz_dtype\u001b[0m\u001b[0;34m(\u001b[0m\u001b[0mvalues\u001b[0m\u001b[0;34m)\u001b[0m\u001b[0;34m:\u001b[0m\u001b[0;34m\u001b[0m\u001b[0m\n",
      "\u001b[0;32m/Users/brinrosenthal/anaconda3/envs/ipykernel_py2/lib/python2.7/site-packages/pandas/core/internals/blocks.pyc\u001b[0m in \u001b[0;36mget_block_type\u001b[0;34m(values, dtype)\u001b[0m\n\u001b[1;32m   3046\u001b[0m     \"\"\"\n\u001b[1;32m   3047\u001b[0m     \u001b[0mdtype\u001b[0m \u001b[0;34m=\u001b[0m \u001b[0mdtype\u001b[0m \u001b[0;32mor\u001b[0m \u001b[0mvalues\u001b[0m\u001b[0;34m.\u001b[0m\u001b[0mdtype\u001b[0m\u001b[0;34m\u001b[0m\u001b[0m\n\u001b[0;32m-> 3048\u001b[0;31m     \u001b[0mvtype\u001b[0m \u001b[0;34m=\u001b[0m \u001b[0mdtype\u001b[0m\u001b[0;34m.\u001b[0m\u001b[0mtype\u001b[0m\u001b[0;34m\u001b[0m\u001b[0m\n\u001b[0m\u001b[1;32m   3049\u001b[0m \u001b[0;34m\u001b[0m\u001b[0m\n\u001b[1;32m   3050\u001b[0m     \u001b[0;32mif\u001b[0m \u001b[0mis_sparse\u001b[0m\u001b[0;34m(\u001b[0m\u001b[0mdtype\u001b[0m\u001b[0;34m)\u001b[0m\u001b[0;34m:\u001b[0m\u001b[0;34m\u001b[0m\u001b[0m\n",
      "\u001b[0;31mKeyboardInterrupt\u001b[0m: "
     ]
    }
   ],
   "source": [
    "# make an ROC curve sweeping z score\n",
    "from sklearn.metrics import roc_curve,auc\n",
    "thresh_list = np.linspace(-17,400,2000)\n",
    "\n",
    "# -------- set threshold for number of variants observed per gene (1 used in main text, 0 used in supplement ) --------\n",
    "dec_thresh=1 \n",
    "# ------------------------------------------------\n",
    "\n",
    "both_DECIPHER = dec_kary_shared[dec_kary_shared['num_LOF_PC']>dec_thresh].index.tolist()\n",
    "print(len(both_DECIPHER))\n",
    "# make sure the genes are able to be recovered\n",
    "both_DECIPHER = list(np.intersect1d(z_ASDCHD.index.tolist(),both_DECIPHER))\n",
    "print(len(both_DECIPHER))\n",
    "\n",
    "TPR_both,FPR_both=calc_FPR_TPR(z_comb['zprod_both'], both_DECIPHER,thresh_list)\n",
    "\n",
    "both_DECIPHER_noseeds = list(np.setdiff1d(both_DECIPHER,seed_genes))\n",
    "print(len(both_DECIPHER_noseeds))\n",
    "TPR_both_noseeds,FPR_both_noseeds=calc_FPR_TPR(z_comb_no_seeds['zprod_both'], both_DECIPHER_noseeds,thresh_list)\n",
    "# TPR_both\n",
    "\n",
    "auc_both = auc(FPR_both,TPR_both)\n",
    "print('\\nAUC all:')\n",
    "print(auc_both)\n",
    "auc_both_noseeds = auc(FPR_both_noseeds,TPR_both_noseeds)\n",
    "print('\\nAUC seeds excluded:')\n",
    "print(auc_both_noseeds)\n",
    "\n",
    "\n",
    "\n",
    "auc_both_rand=[]\n",
    "# randomize xeno_df\n",
    "for r in np.arange(100):\n",
    "#     print(r)\n",
    "    if (r%10)==0:\n",
    "        print(r)\n",
    "\n",
    "    z_ASDrand = z_ASD.copy(deep=True)\n",
    "    rand_index=z_ASDrand.index.tolist()\n",
    "    np.random.shuffle(rand_index)\n",
    "    z_ASDrand.index=rand_index\n",
    "    z_CHDrand = z_CHD.copy(deep=True)\n",
    "    rand_index=z_CHDrand.index.tolist()\n",
    "    np.random.shuffle(rand_index)\n",
    "    z_CHDrand.index=rand_index\n",
    "    z_ASDrand.head()\n",
    "\n",
    "    z_ASDCHDrand = z_ASDrand['zscore'].abs()*z_CHDrand['zscore'].abs()*(((np.sign(z_ASDrand['zscore'])>0)&(np.sign(z_CHDrand['zscore'])>0))*1.0-.5)*2\n",
    "\n",
    "    \n",
    "    TPR_both_rand,FPR_both_rand=calc_FPR_TPR(z_ASDCHDrand, both_DECIPHER,thresh_list)\n",
    "    auc_both_rand.append(auc(TPR_both_rand,FPR_both_rand))\n",
    "\n",
    "    \n",
    "print(np.mean(auc_both_rand))\n",
    "\n"
   ]
  },
  {
   "cell_type": "code",
   "execution_count": 28,
   "metadata": {},
   "outputs": [
    {
     "name": "stdout",
     "output_type": "stream",
     "text": [
      "11.483111070490256\n",
      "8.020149377308533e-31\n",
      "9.504023449205095\n",
      "1.0096687025639668e-21\n"
     ]
    },
    {
     "data": {
      "image/png": "[encoded data removed]",
      "text/plain": [
       "<Figure size 129.6x129.6 with 1 Axes>"
      ]
     },
     "metadata": {},
     "output_type": "display_data"
    }
   ],
   "source": [
    "from scipy.stats import norm\n",
    "sns.set_style('white')\n",
    "sns.set_style(\"ticks\", {\"xtick.major.size\": 15, \"ytick.major.size\": 15})\n",
    "# from scipy.special import ndtr\n",
    "plt.figure(figsize=(1.8,1.8))\n",
    "sns.distplot(auc_both_rand,label='permuted labels',color='k')\n",
    "z_both = (auc_both-np.mean(auc_both_rand))/np.std(auc_both_rand)\n",
    "print(z_both)\n",
    "print(norm.sf(z_both))\n",
    "z_both_noseeds = (auc_both_noseeds-np.mean(auc_both_rand))/np.std(auc_both_rand)\n",
    "print(z_both_noseeds)\n",
    "print(norm.sf(z_both_noseeds))\n",
    "plt.vlines(auc_both,0,4,color='#A81012',label='z_ASD-CHD')\n",
    "plt.vlines(auc_both_noseeds,0,4,color='#FF4F4F',label='z_ASD-CHD\\nno seeds')\n",
    "plt.legend(loc='upper right',fontsize=6)\n",
    "plt.xlabel('AUC',fontsize=8)\n",
    "plt.ylabel('count',fontsize=8)\n",
    "# plt.savefig('../../manuscript/figures_1911/Supplement/DECIPHER_SNV_INDEL_AUC_'+str(dec_thresh)+'.png',dpi=300,bbox_inches='tight')\n",
    "# plt.savefig('../../manuscript/figures_1911/Supplement/DECIPHER_SNV_INDEL_AUC_'+str(dec_thresh)+'.svg',dpi=300,bbox_inches='tight')\n",
    "\n",
    "# plt.savefig('/Users/brinrosenthal/Google Drive/UCSD/CCBB_tickets/Ideker_17_05_neuro/manuscript/figures_revisions_2102/Figure3/DECIPHER_11.1_SNV_INDEL_AUC_'+str(dec_thresh)+'.png',dpi=300,bbox_inches='tight')\n",
    "# plt.savefig('/Users/brinrosenthal/Google Drive/UCSD/CCBB_tickets/Ideker_17_05_neuro/manuscript/figures_revisions_2102/Figure3/DECIPHER_11.1_SNV_INDEL_AUC_'+str(dec_thresh)+'.svg',dpi=300,bbox_inches='tight')\n"
   ]
  },
  {
   "cell_type": "code",
   "execution_count": null,
   "metadata": {},
   "outputs": [],
   "source": []
  },
  {
   "cell_type": "code",
   "execution_count": 29,
   "metadata": {},
   "outputs": [
    {
     "data": {
      "text/html": [
       "<div>\n",
       "<style scoped>\n",
       "    .dataframe tbody tr th:only-of-type {\n",
       "        vertical-align: middle;\n",
       "    }\n",
       "\n",
       "    .dataframe tbody tr th {\n",
       "        vertical-align: top;\n",
       "    }\n",
       "\n",
       "    .dataframe thead th {\n",
       "        text-align: right;\n",
       "    }\n",
       "</style>\n",
       "<table border=\"1\" class=\"dataframe\">\n",
       "  <thead>\n",
       "    <tr style=\"text-align: right;\">\n",
       "      <th></th>\n",
       "      <th>FPR_both</th>\n",
       "      <th>FPR_both_noseeds</th>\n",
       "      <th>FPR_both_rand</th>\n",
       "      <th>TPR_both</th>\n",
       "      <th>TPR_both_noseeds</th>\n",
       "      <th>TPR_both_rand</th>\n",
       "      <th>thresh</th>\n",
       "    </tr>\n",
       "  </thead>\n",
       "  <tbody>\n",
       "    <tr>\n",
       "      <th>96</th>\n",
       "      <td>0.038223</td>\n",
       "      <td>0.036032</td>\n",
       "      <td>0.019576</td>\n",
       "      <td>0.220903</td>\n",
       "      <td>0.148052</td>\n",
       "      <td>0.014252</td>\n",
       "      <td>3.026013</td>\n",
       "    </tr>\n",
       "  </tbody>\n",
       "</table>\n",
       "</div>"
      ],
      "text/plain": [
       "    FPR_both  FPR_both_noseeds  FPR_both_rand  TPR_both  TPR_both_noseeds  \\\n",
       "96  0.038223          0.036032       0.019576  0.220903          0.148052   \n",
       "\n",
       "    TPR_both_rand    thresh  \n",
       "96       0.014252  3.026013  "
      ]
     },
     "metadata": {},
     "output_type": "display_data"
    },
    {
     "data": {
      "image/png": "[encoded data removed]",
      "text/plain": [
       "<Figure size 129.6x129.6 with 1 Axes>"
      ]
     },
     "metadata": {},
     "output_type": "display_data"
    }
   ],
   "source": [
    "from sklearn.metrics import roc_curve,auc\n",
    "sns.set_style('white')\n",
    "sns.set_style(\"ticks\", {\"xtick.major.size\": 15, \"ytick.major.size\": 15})\n",
    "threshlist = np.linspace(-17,400,2000)\n",
    "ROC_df = pd.DataFrame({'thresh':threshlist,\n",
    "                      'FPR_both':FPR_both,'TPR_both':TPR_both,\n",
    "                      'FPR_both_noseeds':FPR_both_noseeds,'TPR_both_noseeds':TPR_both_noseeds,\n",
    "                      'FPR_both_rand':FPR_both_rand,'TPR_both_rand':TPR_both_rand})\n",
    "ROC_df.head()\n",
    "plt.figure(figsize=(1.8,1.8))\n",
    "plt.plot(FPR_both_noseeds,TPR_both_noseeds,'.-',color='#FF4F4F',label='$z_{ASD-CHD}$, no seeds',lw=.5,ms=2)\n",
    "plt.plot(FPR_both,TPR_both,'.-',color='#A81012',label='$z_{ASD-CHD}$, all',lw=.5,ms=2)\n",
    "\n",
    "\n",
    "# circle z=3 \n",
    "ROC_z3 = ROC_df[(ROC_df['thresh']>2.9)&(ROC_df['thresh']<3.1)]\n",
    "display(ROC_z3)\n",
    "plt.plot(ROC_z3['FPR_both'],ROC_z3['TPR_both'],'o',ms=4,color='k',fillstyle='none',label='$z=3$')\n",
    "plt.plot(ROC_z3['FPR_both_noseeds'],ROC_z3['TPR_both_noseeds'],'o',ms=4,color='k',fillstyle='none',label='')\n",
    "\n",
    "# plt.plot(FPR_both_rand,TPR_both_rand,'k.-')\n",
    "plt.plot([0,1],[0,1],'k--',alpha=.5)\n",
    "plt.legend(loc='upper left', fontsize=6,frameon=False)\n",
    "plt.xlabel('DECIPHER false positive rate',fontsize=8)\n",
    "plt.ylabel('DECIPHER true positive rate',fontsize=8)\n",
    "plt.xticks(fontsize=8)\n",
    "plt.yticks(fontsize=8)\n",
    "\n",
    "plt.xlim([-.03,1.1])\n",
    "plt.ylim([-.03,1.1])\n",
    "\n",
    "# plt.savefig('/Users/brinrosenthal/Google Drive/UCSD/CCBB_tickets/Ideker_17_05_neuro/manuscript/figures_revisions_2102/Figure3/DECIPHER_11.1_SNV_INDEL_ROC_'+str(dec_thresh)+'.png',dpi=300,bbox_inches='tight')\n",
    "# plt.savefig('/Users/brinrosenthal/Google Drive/UCSD/CCBB_tickets/Ideker_17_05_neuro/manuscript/figures_revisions_2102/Figure3/DECIPHER_11.1_SNV_INDEL_ROC_'+str(dec_thresh)+'.svg',dpi=300,bbox_inches='tight')\n",
    "\n"
   ]
  },
  {
   "cell_type": "code",
   "execution_count": null,
   "metadata": {},
   "outputs": [],
   "source": []
  }
 ],
 "metadata": {
  "kernelspec": {
   "display_name": "Python 2",
   "language": "python",
   "name": "python2"
  },
  "language_info": {
   "codemirror_mode": {
    "name": "ipython",
    "version": 2
   },
   "file_extension": ".py",
   "mimetype": "text/x-python",
   "name": "python",
   "nbconvert_exporter": "python",
   "pygments_lexer": "ipython2",
   "version": "2.7.17"
  }
 },
 "nbformat": 4,
 "nbformat_minor": 1
}
